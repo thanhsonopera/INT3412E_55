{
 "cells": [
  {
   "cell_type": "code",
   "execution_count": 116,
   "metadata": {
    "_cell_guid": "b1076dfc-b9ad-4769-8c92-a6c4dae69d19",
    "_uuid": "8f2839f25d086af736a60e9eeb907d3b93b6e0e5",
    "execution": {
     "iopub.execute_input": "2024-11-24T09:51:47.665859Z",
     "iopub.status.busy": "2024-11-24T09:51:47.665464Z",
     "iopub.status.idle": "2024-11-24T09:52:03.545173Z",
     "shell.execute_reply": "2024-11-24T09:52:03.544157Z",
     "shell.execute_reply.started": "2024-11-24T09:51:47.665800Z"
    },
    "trusted": true
   },
   "outputs": [],
   "source": [
    "import cv2\n",
    "import os\n",
    "import numpy as np\n",
    "from sklearn.cluster import KMeans\n",
    "from sklearn.decomposition import PCA\n",
    "from scipy.spatial import cKDTree\n",
    "import matplotlib.pyplot as plt\n",
    "\n",
    "from random import sample\n",
    "from numpy.linalg import norm\n",
    "from ultis import *"
   ]
  },
  {
   "cell_type": "markdown",
   "metadata": {},
   "source": [
    "# Input"
   ]
  },
  {
   "cell_type": "code",
   "execution_count": 117,
   "metadata": {
    "execution": {
     "iopub.execute_input": "2024-11-24T10:28:31.523227Z",
     "iopub.status.busy": "2024-11-24T10:28:31.522769Z",
     "iopub.status.idle": "2024-11-24T10:28:33.623988Z",
     "shell.execute_reply": "2024-11-24T10:28:33.622722Z",
     "shell.execute_reply.started": "2024-11-24T10:28:31.523190Z"
    },
    "trusted": true
   },
   "outputs": [],
   "source": [
    "# image_directory = \"datasets/INRIA/images/\"\n",
    "image_directory = \"datasets/UKB/full\"\n",
    "\n",
    "image_paths = get_all_image_paths(image_directory)"
   ]
  },
  {
   "cell_type": "code",
   "execution_count": 118,
   "metadata": {},
   "outputs": [
    {
     "data": {
      "text/plain": [
       "10200"
      ]
     },
     "execution_count": 118,
     "metadata": {},
     "output_type": "execute_result"
    }
   ],
   "source": [
    "# image_paths\n",
    "len(image_paths) "
   ]
  },
  {
   "cell_type": "markdown",
   "metadata": {},
   "source": [
    "# SIFT"
   ]
  },
  {
   "cell_type": "code",
   "execution_count": 119,
   "metadata": {
    "execution": {
     "iopub.execute_input": "2024-11-24T10:28:40.048423Z",
     "iopub.status.busy": "2024-11-24T10:28:40.048015Z",
     "iopub.status.idle": "2024-11-24T11:17:02.386040Z",
     "shell.execute_reply": "2024-11-24T11:17:02.382813Z",
     "shell.execute_reply.started": "2024-11-24T10:28:40.048386Z"
    },
    "trusted": true
   },
   "outputs": [],
   "source": [
    "all_features = []\n",
    "for i, path in enumerate(image_paths):\n",
    "    key_points, descriptors = extract_sift_features(path)\n",
    "    \n",
    "    if descriptors is not None:\n",
    "        # keypoints = sorted(keypoints, key=lambda x: -x.response)\n",
    "        # max_features = 500\n",
    "        # keypoints = keypoints[:max_features]\n",
    "        # descriptors = descriptors[:max_features]\n",
    "        all_features.append(descriptors)\n"
   ]
  },
  {
   "cell_type": "code",
   "execution_count": 120,
   "metadata": {
    "execution": {
     "iopub.execute_input": "2024-11-24T11:28:02.768399Z",
     "iopub.status.busy": "2024-11-24T11:28:02.767530Z",
     "iopub.status.idle": "2024-11-24T11:28:02.782221Z",
     "shell.execute_reply": "2024-11-24T11:28:02.780781Z",
     "shell.execute_reply.started": "2024-11-24T11:28:02.768332Z"
    },
    "trusted": true
   },
   "outputs": [
    {
     "name": "stdout",
     "output_type": "stream",
     "text": [
      "10200\n",
      "10200\n"
     ]
    }
   ],
   "source": [
    "print(len(all_features))\n",
    "print(len(image_paths))"
   ]
  },
  {
   "cell_type": "markdown",
   "metadata": {},
   "source": [
    "# VLAD"
   ]
  },
  {
   "cell_type": "code",
   "execution_count": 121,
   "metadata": {},
   "outputs": [],
   "source": [
    "from vlad import VLAD"
   ]
  },
  {
   "cell_type": "markdown",
   "metadata": {},
   "source": [
    "## VLAD use"
   ]
  },
  {
   "cell_type": "code",
   "execution_count": 134,
   "metadata": {
    "execution": {
     "iopub.execute_input": "2024-11-24T11:28:05.094988Z",
     "iopub.status.busy": "2024-11-24T11:28:05.094544Z"
    },
    "trusted": true
   },
   "outputs": [
    {
     "name": "stdout",
     "output_type": "stream",
     "text": [
      "(13695680, 128)\n",
      "Training vocab #1\n",
      "Training KMeans...\n",
      "Finding rotation-matrices...\n"
     ]
    }
   ],
   "source": [
    "# vlad = VLAD(k=64, n_vocabs=1, norming=\"RN\", lcs=True).fit(all_features)\n",
    "vlad = VLAD(k=16, n_vocabs=1, norming=\"RN\", lcs=True).fit(all_features)"
   ]
  },
  {
   "cell_type": "code",
   "execution_count": 135,
   "metadata": {},
   "outputs": [],
   "source": [
    "# vlad_database = vlad._extract_vlads(all_features)\n",
    "vlad_database = vlad.databases"
   ]
  },
  {
   "cell_type": "code",
   "execution_count": 136,
   "metadata": {},
   "outputs": [
    {
     "data": {
      "text/plain": [
       "(10200, 2048)"
      ]
     },
     "execution_count": 136,
     "metadata": {},
     "output_type": "execute_result"
    }
   ],
   "source": [
    "vlad_database.shape"
   ]
  },
  {
   "cell_type": "markdown",
   "metadata": {},
   "source": [
    "# BOF"
   ]
  },
  {
   "cell_type": "code",
   "execution_count": 153,
   "metadata": {},
   "outputs": [],
   "source": [
    "from bof import BOF"
   ]
  },
  {
   "cell_type": "code",
   "execution_count": 154,
   "metadata": {},
   "outputs": [
    {
     "data": {
      "text/plain": [
       "<bof.BOF at 0x1a900686f90>"
      ]
     },
     "execution_count": 154,
     "metadata": {},
     "output_type": "execute_result"
    }
   ],
   "source": [
    "m_bof = BOF(k=1024)\n",
    "# m_bof = BOF(k=20480)\n",
    "m_bof.fit(all_features)"
   ]
  },
  {
   "cell_type": "code",
   "execution_count": 155,
   "metadata": {},
   "outputs": [
    {
     "data": {
      "text/plain": [
       "(10200, 1024)"
      ]
     },
     "execution_count": 155,
     "metadata": {},
     "output_type": "execute_result"
    }
   ],
   "source": [
    "m_bof.databases.shape"
   ]
  },
  {
   "cell_type": "markdown",
   "metadata": {},
   "source": [
    "# Fisher Vector"
   ]
  },
  {
   "cell_type": "code",
   "execution_count": 9,
   "metadata": {},
   "outputs": [
    {
     "name": "stderr",
     "output_type": "stream",
     "text": [
      "c:\\Users\\thanh\\anaconda3\\envs\\ml\\Lib\\site-packages\\sklearn\\mixture\\_base.py:270: ConvergenceWarning: Best performing initialization did not converge. Try different init parameters, or increase max_iter, tol, or check for degenerate data.\n",
      "  warnings.warn(\n"
     ]
    },
    {
     "data": {
      "text/plain": [
       "<fisher_vector.FisherVector at 0x26bb48ec610>"
      ]
     },
     "execution_count": 9,
     "metadata": {},
     "output_type": "execute_result"
    }
   ],
   "source": [
    "from fisher_vector import FisherVector\n",
    "fivec = FisherVector(n_components=64)\n",
    "fivec.fit(all_features)"
   ]
  },
  {
   "cell_type": "code",
   "execution_count": 10,
   "metadata": {},
   "outputs": [
    {
     "data": {
      "text/plain": [
       "(10200, 8192)"
      ]
     },
     "execution_count": 10,
     "metadata": {},
     "output_type": "execute_result"
    }
   ],
   "source": [
    "fivec.databases.shape"
   ]
  },
  {
   "cell_type": "markdown",
   "metadata": {},
   "source": [
    "# ADC"
   ]
  },
  {
   "cell_type": "code",
   "execution_count": 99,
   "metadata": {},
   "outputs": [],
   "source": [
    "from cq import CQ"
   ]
  },
  {
   "cell_type": "code",
   "execution_count": 145,
   "metadata": {},
   "outputs": [],
   "source": [
    "cq = CQ(k=16)\n",
    "cq.fit(vlad_database)\n",
    "re_vlad_database = cq.residual(vlad_database)"
   ]
  },
  {
   "cell_type": "code",
   "execution_count": 146,
   "metadata": {},
   "outputs": [
    {
     "data": {
      "text/plain": [
       "((10200, 2048), (10200, 2048))"
      ]
     },
     "execution_count": 146,
     "metadata": {},
     "output_type": "execute_result"
    }
   ],
   "source": [
    "re_vlad_database.shape, vlad_database.shape"
   ]
  },
  {
   "cell_type": "code",
   "execution_count": 156,
   "metadata": {},
   "outputs": [],
   "source": [
    "from adc import ADC"
   ]
  },
  {
   "cell_type": "code",
   "execution_count": null,
   "metadata": {
    "execution": {
     "iopub.execute_input": "2024-11-24T10:27:50.702564Z",
     "iopub.status.busy": "2024-11-24T10:27:50.702186Z",
     "iopub.status.idle": "2024-11-24T10:27:50.708146Z",
     "shell.execute_reply": "2024-11-24T10:27:50.706894Z",
     "shell.execute_reply.started": "2024-11-24T10:27:50.702531Z"
    },
    "trusted": true
   },
   "outputs": [],
   "source": [
    "adc = ADC(m=32, k=1024)\n",
    "# adc = ADC(m=16, k=256)"
   ]
  },
  {
   "cell_type": "code",
   "execution_count": null,
   "metadata": {},
   "outputs": [],
   "source": [
    "adc.fit(fivec.databases)"
   ]
  },
  {
   "cell_type": "code",
   "execution_count": 158,
   "metadata": {},
   "outputs": [
    {
     "data": {
      "text/plain": [
       "<adc.ADC at 0x1a935c4d6d0>"
      ]
     },
     "execution_count": 158,
     "metadata": {},
     "output_type": "execute_result"
    }
   ],
   "source": [
    "adc.fit(m_bof.databases)"
   ]
  },
  {
   "cell_type": "code",
   "execution_count": 148,
   "metadata": {
    "execution": {
     "iopub.execute_input": "2024-11-24T10:27:52.095229Z",
     "iopub.status.busy": "2024-11-24T10:27:52.094857Z",
     "iopub.status.idle": "2024-11-24T10:27:52.303791Z",
     "shell.execute_reply": "2024-11-24T10:27:52.302048Z",
     "shell.execute_reply.started": "2024-11-24T10:27:52.095197Z"
    },
    "trusted": true
   },
   "outputs": [
    {
     "data": {
      "text/plain": [
       "<adc.ADC at 0x1a9006e2e90>"
      ]
     },
     "execution_count": 148,
     "metadata": {},
     "output_type": "execute_result"
    }
   ],
   "source": [
    "# adc.fit(vlad_database)\n",
    "adc.fit(re_vlad_database)"
   ]
  },
  {
   "cell_type": "code",
   "execution_count": 159,
   "metadata": {},
   "outputs": [
    {
     "data": {
      "text/plain": [
       "(10200, 16)"
      ]
     },
     "execution_count": 159,
     "metadata": {},
     "output_type": "execute_result"
    }
   ],
   "source": [
    "adc.databases.shape"
   ]
  },
  {
   "cell_type": "markdown",
   "metadata": {},
   "source": [
    "# Test 1"
   ]
  },
  {
   "cell_type": "code",
   "execution_count": 105,
   "metadata": {
    "trusted": true
   },
   "outputs": [],
   "source": [
    "import json\n",
    "with open('datasets/INRIA/groundtruth.json', 'r') as file:\n",
    "    data = json.load(file)\n",
    "    for key in data:\n",
    "        new_similar = []\n",
    "        for img in data[key]['similar']:\n",
    "            for idx, path in enumerate(image_paths):\n",
    "                if img in path:\n",
    "                    new_similar.append(idx)\n",
    "        data[key]['similar'] = new_similar"
   ]
  },
  {
   "cell_type": "code",
   "execution_count": 115,
   "metadata": {},
   "outputs": [
    {
     "name": "stdout",
     "output_type": "stream",
     "text": [
      "Original index: 1394, Probability: 0.8025581467841852\n",
      "Original index: 1392, Probability: 0.8025581467841852\n",
      "Original index: 0, Probability: 0.807543624245643\n",
      "Original index: 1045, Probability: 0.8157753786149433\n",
      "Original index: 908, Probability: 0.8396267266468807\n",
      "Original index: 1, Probability: 0.8428777520669728\n",
      "Original index: 909, Probability: 0.8430990908005911\n",
      "Original index: 15, Probability: 0.8601103259642471\n",
      "Original index: 13, Probability: 0.8601103259642471\n",
      "Original index: 2, Probability: 0.8724442655175448\n",
      "Original index: 277, Probability: 0.8738324352164135\n",
      "Original index: 1044, Probability: 0.8747602179264716\n",
      "Original index: 1364, Probability: 0.8761134372589021\n",
      "Original index: 768, Probability: 0.8876678205928731\n",
      "Original index: 907, Probability: 0.8936567444326977\n",
      "Original index: 69, Probability: 0.8965607347125659\n",
      "Original index: 222, Probability: 0.9039099035352195\n",
      "Original index: 1436, Probability: 0.9094023934414055\n",
      "Original index: 326, Probability: 0.9098244900357839\n",
      "Original index: 914, Probability: 0.9148133880060096\n",
      "Original index: 14, Probability: 0.9172887253131884\n",
      "Original index: 1285, Probability: 0.9242513350929115\n",
      "Original index: 12, Probability: 0.925330356506405\n",
      "Original index: 11, Probability: 0.9299032773271154\n",
      "Original index: 1047, Probability: 0.9339557003574583\n",
      "Original index: 1430, Probability: 0.935886586785901\n",
      "Original index: 5, Probability: 0.9419240610905822\n",
      "Original index: 789, Probability: 0.9448273072692559\n",
      "Original index: 276, Probability: 0.9503553013490481\n",
      "Original index: 1197, Probability: 0.9550219352783024\n",
      "Original index: 1284, Probability: 0.9561868496346468\n",
      "Original index: 3, Probability: 0.7538266398873141\n",
      "Original index: 4, Probability: 0.8005914816543311\n",
      "Original index: 678, Probability: 0.8417635179578387\n",
      "Original index: 677, Probability: 0.8417635179578387\n",
      "Original index: 679, Probability: 0.8662129744933036\n",
      "Original index: 246, Probability: 0.8677185520565318\n",
      "Original index: 156, Probability: 0.8785313529903311\n",
      "Original index: 968, Probability: 0.885072948355074\n",
      "Original index: 1200, Probability: 0.8890407881293373\n",
      "Original index: 718, Probability: 0.8917648452724687\n",
      "Original index: 1009, Probability: 0.8986203006749315\n",
      "Original index: 84, Probability: 0.9011708525634676\n",
      "Original index: 895, Probability: 0.9012821883455078\n",
      "Original index: 1187, Probability: 0.9034832078898586\n",
      "Original index: 157, Probability: 0.9045455783744942\n",
      "Original index: 751, Probability: 0.9074976546282483\n",
      "Original index: 17, Probability: 0.9112581148831813\n",
      "Original index: 1136, Probability: 0.9127530217246654\n",
      "Original index: 972, Probability: 0.9138312741199262\n",
      "Original index: 40, Probability: 0.9140832299668566\n",
      "Original index: 19, Probability: 0.9171217854709359\n",
      "Original index: 736, Probability: 0.9242208147108124\n",
      "Original index: 38, Probability: 0.9260103925486851\n",
      "Original index: 721, Probability: 0.9278785966510807\n",
      "Original index: 18, Probability: 0.928210062158082\n",
      "Original index: 731, Probability: 0.9318084236517574\n",
      "Original index: 871, Probability: 0.9374781301129307\n",
      "Original index: 1343, Probability: 0.9379483775921007\n",
      "Original index: 739, Probability: 0.9386348572664795\n",
      "Original index: 723, Probability: 0.9403999506568306\n",
      "Original index: 734, Probability: 0.9412692717276954\n",
      "Original index: 261, Probability: 0.6250772263211396\n",
      "Original index: 1321, Probability: 0.6264867481453742\n",
      "Original index: 615, Probability: 0.6282184576804644\n",
      "Original index: 976, Probability: 0.6337767054485417\n",
      "Original index: 294, Probability: 0.6434909162465323\n",
      "Original index: 904, Probability: 0.644686975974355\n",
      "Original index: 1136, Probability: 0.6448849871372236\n",
      "Original index: 268, Probability: 0.6519320262466609\n",
      "Original index: 455, Probability: 0.6520772130928463\n",
      "Original index: 900, Probability: 0.655356017591818\n",
      "Original index: 977, Probability: 0.6562581770188051\n",
      "Original index: 1231, Probability: 0.658993093541254\n",
      "Original index: 923, Probability: 0.6615384972395112\n",
      "Original index: 927, Probability: 0.6644054012926582\n",
      "Original index: 924, Probability: 0.6655312845273436\n",
      "Original index: 599, Probability: 0.6667878674443772\n",
      "Original index: 975, Probability: 0.6683365382973159\n",
      "Original index: 372, Probability: 0.6683726502847198\n",
      "Original index: 270, Probability: 0.6723886092974931\n",
      "Original index: 1226, Probability: 0.6733332539236134\n",
      "Original index: 560, Probability: 0.6734397171163384\n",
      "Original index: 238, Probability: 0.6735308395830732\n",
      "Original index: 274, Probability: 0.6740745370872271\n",
      "Original index: 2, Probability: 0.6766244288198062\n",
      "Original index: 255, Probability: 0.6803431758390486\n",
      "Original index: 3, Probability: 0.680635392217978\n",
      "Original index: 614, Probability: 0.6806656519795478\n",
      "Original index: 782, Probability: 0.6855610741878942\n",
      "Original index: 558, Probability: 0.6879499015627732\n",
      "Original index: 1016, Probability: 0.6880385590636682\n",
      "Original index: 458, Probability: 0.6889396471516367\n",
      "Original index: 11, Probability: 0.8428392140849994\n",
      "Original index: 703, Probability: 0.8508467043473446\n",
      "Original index: 1027, Probability: 0.8592651557312048\n",
      "Original index: 130, Probability: 0.8600943458784197\n",
      "Original index: 1024, Probability: 0.8601399129615813\n",
      "Original index: 1025, Probability: 0.8601399129615813\n",
      "Original index: 1204, Probability: 0.8607830872124733\n",
      "Original index: 788, Probability: 0.8665586682559213\n",
      "Original index: 7, Probability: 0.86671647614727\n",
      "Original index: 1026, Probability: 0.8668175127682264\n",
      "Original index: 93, Probability: 0.8674379318245973\n",
      "Original index: 789, Probability: 0.8679666060581714\n",
      "Original index: 1022, Probability: 0.8686880852856305\n",
      "Original index: 1419, Probability: 0.8726622374607649\n",
      "Original index: 1415, Probability: 0.872672539914727\n",
      "Original index: 674, Probability: 0.8729884873893531\n",
      "Original index: 702, Probability: 0.8741479269244524\n",
      "Original index: 1033, Probability: 0.8746577287618011\n",
      "Original index: 1418, Probability: 0.8750590859730439\n",
      "Original index: 1197, Probability: 0.8759247260566265\n",
      "Original index: 8, Probability: 0.8759522519272621\n",
      "Original index: 1414, Probability: 0.8762214592785238\n",
      "Original index: 1037, Probability: 0.8776137309569392\n",
      "Original index: 1280, Probability: 0.8778626776948542\n",
      "Original index: 264, Probability: 0.878084815582451\n",
      "Original index: 135, Probability: 0.8783294220374753\n",
      "Original index: 1413, Probability: 0.8789907397781203\n",
      "Original index: 1285, Probability: 0.8791219681120375\n",
      "Original index: 1051, Probability: 0.8793072762377901\n",
      "Original index: 1030, Probability: 0.8805009572063713\n",
      "Original index: 1047, Probability: 0.8809250028766729\n",
      "Original index: 171, Probability: 0.808227230625015\n",
      "Original index: 172, Probability: 0.808227230625015\n",
      "Original index: 170, Probability: 0.8177139455150102\n",
      "Original index: 50, Probability: 0.8255178284590905\n",
      "Original index: 104, Probability: 0.8261265407104291\n",
      "Original index: 30, Probability: 0.8266557715641962\n",
      "Original index: 201, Probability: 0.827483689094781\n",
      "Original index: 195, Probability: 0.8338449798683067\n",
      "Original index: 948, Probability: 0.8357156962885073\n",
      "Original index: 46, Probability: 0.8387069378077827\n",
      "Original index: 196, Probability: 0.8404157724247064\n",
      "Original index: 51, Probability: 0.842625670236969\n",
      "Original index: 116, Probability: 0.8443203297468183\n",
      "Original index: 117, Probability: 0.8463053082493514\n",
      "Original index: 47, Probability: 0.8517284641715351\n",
      "Original index: 52, Probability: 0.8545748582766354\n",
      "Original index: 99, Probability: 0.8609254276608365\n",
      "Original index: 1041, Probability: 0.8617294450559908\n",
      "Original index: 45, Probability: 0.8659981638477746\n",
      "Original index: 204, Probability: 0.867633171321275\n",
      "Original index: 53, Probability: 0.8687918180905596\n",
      "Original index: 197, Probability: 0.8693241593944133\n",
      "Original index: 194, Probability: 0.8697700399339569\n",
      "Original index: 11, Probability: 0.8701878154458307\n",
      "Original index: 205, Probability: 0.8721840847621445\n",
      "Original index: 96, Probability: 0.8766732644371236\n",
      "Original index: 95, Probability: 0.8766732644371236\n",
      "Original index: 97, Probability: 0.8766732644371236\n",
      "Original index: 818, Probability: 0.8766805303397749\n",
      "Original index: 109, Probability: 0.8773471451196955\n",
      "Original index: 111, Probability: 0.8773471451196955\n",
      "Original index: 277, Probability: 0.7792997874229667\n",
      "Original index: 261, Probability: 0.7817926193010603\n",
      "Original index: 768, Probability: 0.8145777143385693\n",
      "Original index: 1392, Probability: 0.81874441919081\n",
      "Original index: 1394, Probability: 0.81874441919081\n",
      "Original index: 904, Probability: 0.8208597495963569\n",
      "Original index: 1045, Probability: 0.8218799804008755\n",
      "Original index: 276, Probability: 0.8291798453659409\n",
      "Original index: 1, Probability: 0.8329284001046939\n",
      "Original index: 11, Probability: 0.8339705919524838\n",
      "Original index: 0, Probability: 0.8346062858422846\n",
      "Original index: 1272, Probability: 0.8355857243220488\n",
      "Original index: 1171, Probability: 0.8364914265838275\n",
      "Original index: 1482, Probability: 0.8426451857836119\n",
      "Original index: 1479, Probability: 0.8441963319345581\n",
      "Original index: 372, Probability: 0.8453845864820932\n",
      "Original index: 923, Probability: 0.8477125746571886\n",
      "Original index: 15, Probability: 0.8490644053163644\n",
      "Original index: 13, Probability: 0.8490644053163644\n",
      "Original index: 1098, Probability: 0.849189742840464\n",
      "Original index: 2, Probability: 0.8495053909518611\n",
      "Original index: 900, Probability: 0.8495410600354156\n",
      "Original index: 924, Probability: 0.850692413518241\n",
      "Original index: 178, Probability: 0.8521876400016857\n",
      "Original index: 294, Probability: 0.8541521124513611\n",
      "Original index: 1273, Probability: 0.8542934912739273\n",
      "Original index: 908, Probability: 0.8551871365161136\n",
      "Original index: 623, Probability: 0.8566187039766109\n",
      "Original index: 976, Probability: 0.8578795871560942\n",
      "Original index: 909, Probability: 0.8591444647012139\n",
      "Original index: 1472, Probability: 0.8600232131562882\n",
      "Original index: 1046, Probability: 0.8594766605336701\n",
      "Original index: 868, Probability: 0.8799688337467226\n",
      "Original index: 16, Probability: 0.8808436481166455\n",
      "Original index: 869, Probability: 0.9160960800413896\n",
      "Original index: 536, Probability: 0.9464565608885396\n",
      "Original index: 1435, Probability: 0.9718811673877719\n",
      "Original index: 1347, Probability: 1.0301004599551922\n",
      "Original index: 670, Probability: 1.0454228816769366\n",
      "Original index: 1304, Probability: 1.0623376942854401\n",
      "Original index: 48, Probability: 1.0685207618731625\n",
      "Original index: 876, Probability: 1.069644621673338\n",
      "Original index: 577, Probability: 1.0833732563258205\n",
      "Original index: 644, Probability: 1.1131234108636199\n",
      "Original index: 468, Probability: 1.118926614485807\n",
      "Original index: 537, Probability: 1.1360215950562138\n",
      "Original index: 49, Probability: 1.1440348082856542\n",
      "Original index: 643, Probability: 1.1494941317513563\n",
      "Original index: 1408, Probability: 1.1860201235843666\n",
      "Original index: 1344, Probability: 1.1909124959063448\n",
      "Original index: 379, Probability: 1.196840949526713\n",
      "Original index: 392, Probability: 1.2048703743290812\n",
      "Original index: 672, Probability: 1.2090949952353607\n",
      "Original index: 671, Probability: 1.2142597414169094\n",
      "Original index: 271, Probability: 1.2160566993791304\n",
      "Original index: 521, Probability: 1.2288044716408377\n",
      "Original index: 1176, Probability: 1.2431934618896325\n",
      "Original index: 1137, Probability: 1.2498896128201942\n",
      "Original index: 291, Probability: 1.25728393770652\n",
      "Original index: 792, Probability: 1.2723459214234087\n",
      "Original index: 791, Probability: 1.2767146229651047\n",
      "Original index: 469, Probability: 1.2767766566932728\n"
     ]
    },
    {
     "ename": "KeyboardInterrupt",
     "evalue": "",
     "output_type": "error",
     "traceback": [
      "\u001b[1;31m---------------------------------------------------------------------------\u001b[0m",
      "\u001b[1;31mKeyboardInterrupt\u001b[0m                         Traceback (most recent call last)",
      "Cell \u001b[1;32mIn[115], line 4\u001b[0m\n\u001b[0;32m      2\u001b[0m \u001b[38;5;28;01mfor\u001b[39;00m key \u001b[38;5;129;01min\u001b[39;00m data:\n\u001b[0;32m      3\u001b[0m     path \u001b[38;5;241m=\u001b[39m \u001b[38;5;124m'\u001b[39m\u001b[38;5;124mdatasets/INRIA/images/\u001b[39m\u001b[38;5;124m'\u001b[39m \u001b[38;5;241m+\u001b[39m data[key][\u001b[38;5;124m'\u001b[39m\u001b[38;5;124mquery\u001b[39m\u001b[38;5;124m'\u001b[39m]\n\u001b[1;32m----> 4\u001b[0m     key_points, descriptors \u001b[38;5;241m=\u001b[39m \u001b[43mextract_sift_features\u001b[49m\u001b[43m(\u001b[49m\u001b[43mpath\u001b[49m\u001b[43m)\u001b[49m\n\u001b[0;32m      5\u001b[0m     \u001b[38;5;66;03m# query_vlad = vlad.transform([descriptors])\u001b[39;00m\n\u001b[0;32m      6\u001b[0m     \n\u001b[0;32m      7\u001b[0m     \u001b[38;5;66;03m# re_query_vlad = cq.residual(query_vlad)\u001b[39;00m\n\u001b[0;32m      8\u001b[0m     \u001b[38;5;66;03m# probabilities = adc.predict_proba(re_query_vlad)\u001b[39;00m\n\u001b[0;32m      9\u001b[0m  \n\u001b[0;32m     10\u001b[0m     \u001b[38;5;66;03m# probabilities = adc.predict_proba(query_vlad)\u001b[39;00m\n\u001b[0;32m     12\u001b[0m     query_bof \u001b[38;5;241m=\u001b[39m m_bof\u001b[38;5;241m.\u001b[39mtransform([descriptors])\n",
      "File \u001b[1;32mc:\\Users\\thanh\\Downloads\\Thị Giác Máy\\ultis.py:37\u001b[0m, in \u001b[0;36mextract_sift_features\u001b[1;34m(image_path)\u001b[0m\n\u001b[0;32m     35\u001b[0m image \u001b[38;5;241m=\u001b[39m cv2\u001b[38;5;241m.\u001b[39mimread(image_path, cv2\u001b[38;5;241m.\u001b[39mIMREAD_GRAYSCALE)\n\u001b[0;32m     36\u001b[0m sift \u001b[38;5;241m=\u001b[39m cv2\u001b[38;5;241m.\u001b[39mSIFT_create()\n\u001b[1;32m---> 37\u001b[0m key_points, descriptors \u001b[38;5;241m=\u001b[39m \u001b[43msift\u001b[49m\u001b[38;5;241;43m.\u001b[39;49m\u001b[43mdetectAndCompute\u001b[49m\u001b[43m(\u001b[49m\u001b[43mimage\u001b[49m\u001b[43m,\u001b[49m\u001b[43m \u001b[49m\u001b[38;5;28;43;01mNone\u001b[39;49;00m\u001b[43m)\u001b[49m\n\u001b[0;32m     38\u001b[0m \u001b[38;5;28;01mreturn\u001b[39;00m key_points, descriptors\n",
      "\u001b[1;31mKeyboardInterrupt\u001b[0m: "
     ]
    }
   ],
   "source": [
    "\n",
    "outputs = []\n",
    "for key in data:\n",
    "    path = 'datasets/INRIA/images/' + data[key]['query']\n",
    "    key_points, descriptors = extract_sift_features(path)\n",
    "    # query_vlad = vlad.transform([descriptors])\n",
    "    \n",
    "    # re_query_vlad = cq.residual(query_vlad)\n",
    "    # probabilities = adc.predict_proba(re_query_vlad)\n",
    " \n",
    "    # probabilities = adc.predict_proba(query_vlad)\n",
    "\n",
    "    query_bof = m_bof.transform([descriptors])\n",
    "    re_query_bof = cq.residual(query_bof)\n",
    "\n",
    "    probabilities = adc.predict_proba(re_query_bof)\n",
    "    \n",
    "    # query_fish = fivec.transform([descriptors])\n",
    "    # probabilities = adc.predict_proba(query_fish)\n",
    "\n",
    "    sorted_indices = np.argsort(probabilities)\n",
    "\n",
    "    output_per_query = []\n",
    "    for i, index in enumerate(sorted_indices):\n",
    "        print(f\"Original index: {index}, Probability: {probabilities[index]}\")\n",
    "        if i > 0:\n",
    "            output_per_query.append(index)\n",
    "            # if len(output_per_query) == len(data[key]['similar']):\n",
    "            #     break\n",
    "            if len(output_per_query) == 30:\n",
    "                break\n",
    "    \n",
    "    outputs.append(output_per_query)"
   ]
  },
  {
   "cell_type": "code",
   "execution_count": 95,
   "metadata": {},
   "outputs": [],
   "source": [
    "from metrics.mAP import compute_map"
   ]
  },
  {
   "cell_type": "code",
   "execution_count": 96,
   "metadata": {},
   "outputs": [
    {
     "data": {
      "text/plain": [
       "0.31003789524421943"
      ]
     },
     "execution_count": 96,
     "metadata": {},
     "output_type": "execute_result"
    }
   ],
   "source": [
    "compute_map(data, outputs)"
   ]
  },
  {
   "cell_type": "code",
   "execution_count": 38,
   "metadata": {},
   "outputs": [
    {
     "data": {
      "text/plain": [
       "0.5263370842598865"
      ]
     },
     "execution_count": 38,
     "metadata": {},
     "output_type": "execute_result"
    }
   ],
   "source": [
    "compute_map(data, outputs)"
   ]
  },
  {
   "cell_type": "code",
   "execution_count": 34,
   "metadata": {},
   "outputs": [
    {
     "data": {
      "text/plain": [
       "0.5446192870841833"
      ]
     },
     "execution_count": 34,
     "metadata": {},
     "output_type": "execute_result"
    }
   ],
   "source": [
    "compute_map(data, outputs)"
   ]
  },
  {
   "cell_type": "code",
   "execution_count": 31,
   "metadata": {},
   "outputs": [
    {
     "data": {
      "text/plain": [
       "0.5446192870841833"
      ]
     },
     "execution_count": 31,
     "metadata": {},
     "output_type": "execute_result"
    }
   ],
   "source": [
    "compute_map(data, outputs)"
   ]
  },
  {
   "cell_type": "code",
   "execution_count": 19,
   "metadata": {},
   "outputs": [
    {
     "data": {
      "text/plain": [
       "0.4353588882737381"
      ]
     },
     "execution_count": 19,
     "metadata": {},
     "output_type": "execute_result"
    }
   ],
   "source": [
    "compute_map(data, outputs)"
   ]
  },
  {
   "cell_type": "code",
   "execution_count": 45,
   "metadata": {},
   "outputs": [
    {
     "data": {
      "text/plain": [
       "0.4323582783182517"
      ]
     },
     "execution_count": 45,
     "metadata": {},
     "output_type": "execute_result"
    }
   ],
   "source": [
    "# Fisher (k = 16) ADC (m=16, k=256)\n",
    "compute_map(data, outputs)"
   ]
  },
  {
   "cell_type": "code",
   "execution_count": null,
   "metadata": {},
   "outputs": [
    {
     "data": {
      "text/plain": [
       "0.43252457417325424"
      ]
     },
     "execution_count": 16,
     "metadata": {},
     "output_type": "execute_result"
    }
   ],
   "source": [
    "# Fisher (k = 64) ADC (m=64, k=1024)\n",
    "compute_map(data, outputs)"
   ]
  },
  {
   "cell_type": "code",
   "execution_count": 61,
   "metadata": {},
   "outputs": [
    {
     "data": {
      "text/plain": [
       "0.5376465998449635"
      ]
     },
     "execution_count": 61,
     "metadata": {},
     "output_type": "execute_result"
    }
   ],
   "source": [
    "# VLAD (k=16) ADC (m=16, k=256) Top k : 30\n",
    "compute_map(data, outputs)"
   ]
  },
  {
   "cell_type": "code",
   "execution_count": null,
   "metadata": {},
   "outputs": [],
   "source": [
    "# VLAD (k=64) ADC (m=32, k=1024) Top k : 30\n",
    "compute_map(data, outputs)"
   ]
  },
  {
   "cell_type": "code",
   "execution_count": 70,
   "metadata": {},
   "outputs": [
    {
     "data": {
      "text/plain": [
       "0.41684722833359034"
      ]
     },
     "execution_count": 70,
     "metadata": {},
     "output_type": "execute_result"
    }
   ],
   "source": [
    "# BOF (k=1024) ADC (m=16, k=256) Top k : 30\n",
    "compute_map(data, outputs)"
   ]
  },
  {
   "cell_type": "code",
   "execution_count": null,
   "metadata": {},
   "outputs": [
    {
     "data": {
      "text/plain": [
       "0.45380486841201123"
      ]
     },
     "execution_count": 16,
     "metadata": {},
     "output_type": "execute_result"
    }
   ],
   "source": [
    "# BOF (k=1024) ADC (m=32, k=1024) Top k : 30\n",
    "compute_map(data, outputs)"
   ]
  },
  {
   "cell_type": "code",
   "execution_count": 83,
   "metadata": {},
   "outputs": [
    {
     "data": {
      "text/plain": [
       "0.3191882686872316"
      ]
     },
     "execution_count": 83,
     "metadata": {},
     "output_type": "execute_result"
    }
   ],
   "source": [
    "# BOF (k=20480) ADC (m=32, k=1024) Top k : 30\n",
    "compute_map(data, outputs)"
   ]
  },
  {
   "cell_type": "code",
   "execution_count": 88,
   "metadata": {},
   "outputs": [
    {
     "data": {
      "text/plain": [
       "0.35210481160541585"
      ]
     },
     "execution_count": 88,
     "metadata": {},
     "output_type": "execute_result"
    }
   ],
   "source": [
    "# BOF (k=20480) ADC (m=16, k=256) Top k : 30\n",
    "compute_map(data, outputs)"
   ]
  },
  {
   "cell_type": "markdown",
   "metadata": {},
   "source": [
    "# Test 2"
   ]
  },
  {
   "cell_type": "code",
   "execution_count": 129,
   "metadata": {},
   "outputs": [],
   "source": [
    "from metrics.score4 import calculate_gr_score"
   ]
  },
  {
   "cell_type": "code",
   "execution_count": 160,
   "metadata": {},
   "outputs": [],
   "source": [
    "similarity_matrix = []\n",
    "for path in image_paths:\n",
    "    key_points, descriptors = extract_sift_features(path)\n",
    "    \n",
    "    # query_fish = fivec.transform([descriptors])\n",
    "    # probabilities = adc.predict_proba(query_fish)\n",
    "    query_bof = m_bof.transform([descriptors])\n",
    "    probabilities = adc.predict_proba(query_bof)\n",
    "\n",
    "    # query_vlad = vlad.transform([descriptors])\n",
    "    # re_query_vlad = cq.residual(query_vlad)\n",
    "    # probabilities = adc.predict_proba(re_query_vlad)\n",
    "    \n",
    "    similarity_matrix.append(probabilities)"
   ]
  },
  {
   "cell_type": "code",
   "execution_count": 161,
   "metadata": {},
   "outputs": [
    {
     "data": {
      "text/plain": [
       "(10200, 10200)"
      ]
     },
     "execution_count": 161,
     "metadata": {},
     "output_type": "execute_result"
    }
   ],
   "source": [
    "len(similarity_matrix[0]), len(similarity_matrix)"
   ]
  },
  {
   "cell_type": "code",
   "execution_count": 162,
   "metadata": {},
   "outputs": [
    {
     "data": {
      "text/plain": [
       "2.0912745098039216"
      ]
     },
     "execution_count": 162,
     "metadata": {},
     "output_type": "execute_result"
    }
   ],
   "source": [
    "calculate_gr_score(np.array(similarity_matrix))"
   ]
  },
  {
   "cell_type": "code",
   "execution_count": 57,
   "metadata": {},
   "outputs": [
    {
     "data": {
      "text/plain": [
       "1.6491176470588236"
      ]
     },
     "execution_count": 57,
     "metadata": {},
     "output_type": "execute_result"
    }
   ],
   "source": [
    "calculate_gr_score(np.array(similarity_matrix))"
   ]
  },
  {
   "cell_type": "code",
   "execution_count": 47,
   "metadata": {},
   "outputs": [
    {
     "data": {
      "text/plain": [
       "2.082549019607843"
      ]
     },
     "execution_count": 47,
     "metadata": {},
     "output_type": "execute_result"
    }
   ],
   "source": [
    "# BOF k=1024 ADC m=16 k=256\n",
    "calculate_gr_score(np.array(similarity_matrix))"
   ]
  },
  {
   "cell_type": "code",
   "execution_count": 39,
   "metadata": {},
   "outputs": [
    {
     "data": {
      "text/plain": [
       "2.2905882352941176"
      ]
     },
     "execution_count": 39,
     "metadata": {},
     "output_type": "execute_result"
    }
   ],
   "source": [
    "# BOF k=1024 ADC m=32 k=1024\n",
    "calculate_gr_score(np.array(similarity_matrix))"
   ]
  },
  {
   "cell_type": "code",
   "execution_count": 26,
   "metadata": {},
   "outputs": [
    {
     "data": {
      "text/plain": [
       "2.0431372549019606"
      ]
     },
     "execution_count": 26,
     "metadata": {},
     "output_type": "execute_result"
    }
   ],
   "source": [
    "# Fisher k=64 ADC m=32 k=1024\n",
    "calculate_gr_score(np.array(similarity_matrix))"
   ]
  },
  {
   "cell_type": "code",
   "execution_count": null,
   "metadata": {},
   "outputs": [
    {
     "data": {
      "text/plain": [
       "2.241862745098039"
      ]
     },
     "execution_count": 43,
     "metadata": {},
     "output_type": "execute_result"
    }
   ],
   "source": [
    "# Fisher k=16 ADC m=16 k=256\n",
    "calculate_gr_score(np.array(similarity_matrix))"
   ]
  },
  {
   "cell_type": "markdown",
   "metadata": {},
   "source": [
    "# KDTree"
   ]
  },
  {
   "cell_type": "code",
   "execution_count": null,
   "metadata": {
    "trusted": true
   },
   "outputs": [],
   "source": [
    "kdtree=cKDTree(vlad.databases)"
   ]
  },
  {
   "cell_type": "code",
   "execution_count": null,
   "metadata": {
    "execution": {
     "iopub.execute_input": "2024-11-24T05:14:03.480211Z",
     "iopub.status.busy": "2024-11-24T05:14:03.47971Z",
     "iopub.status.idle": "2024-11-24T05:14:03.49297Z",
     "shell.execute_reply": "2024-11-24T05:14:03.491565Z",
     "shell.execute_reply.started": "2024-11-24T05:14:03.480167Z"
    },
    "trusted": true
   },
   "outputs": [],
   "source": [
    "def display_image_with_vector(image_path, vlad_vector, title):\n",
    "    \"\"\"\n",
    "    Displays an image with its descriptor vector.\n",
    "\n",
    "    Args:\n",
    "        image_path (str): Path to the image.\n",
    "        vlad_vector (numpy.ndarray): VLAD vector.\n",
    "        title (str): Title for the plot.\n",
    "    \"\"\"\n",
    "    image = cv2.imread(image_path)\n",
    "    plt.figure()\n",
    "    plt.imshow(cv2.cvtColor(image, cv2.COLOR_BGR2RGB))\n",
    "    plt.title(title)\n",
    "    plt.show()\n",
    "\n",
    "\n",
    "# Function to find and display similar images\n",
    "def search_similar_images(query_vector, kdtree, vlad_vectors_reduced,\n",
    "                          num_results=1):\n",
    "    \"\"\"\n",
    "    Finds and displays similar images based on a query vector.\n",
    "\n",
    "    Args:\n",
    "        query_vector (numpy.ndarray): Query vector.\n",
    "        kdtree: KD-Tree built on the training set.\n",
    "        vlad_vectors_reduced: Reduced VLAD vectors for the training set.\n",
    "        num_results (int): Number of similar images to display.\n",
    "    \"\"\"\n",
    "    _, indices = kdtree.query(query_vector, num_results)\n",
    "    print(indices)\n",
    "\n",
    "    if num_results == 1:\n",
    "        idx = int(indices[0])  # Access the first index\n",
    "        image_path = image_paths[idx]\n",
    "        display_image_with_vector(image_path,\n",
    "                                  vlad_vectors_reduced[idx], \"Similar Image\")\n",
    "    else:\n",
    "        for i in range(num_results):\n",
    "            idx = int(indices[i])\n",
    "            image_path = image_paths[idx]\n",
    "            display_image_with_vector(image_path,\n",
    "                                      vlad_vectors_reduced[idx], f\"Similar Image {i + 1}\")\n",
    "\n",
    "\n",
    "# Function to find the path of a similar image\n",
    "def search_similar_images_path(query_vector, kdtree, vlad_vectors_reduced,\n",
    "                               num_results=1):\n",
    "    \"\"\"\n",
    "    Finds the path of a similar image based on a query vector.\n",
    "\n",
    "    Args:\n",
    "        query_vector (numpy.ndarray): Query vector.\n",
    "        kdtree: KD-Tree built on the training set.\n",
    "        vlad_vectors_reduced: Reduced VLAD vectors for the training set.\n",
    "        num_results (int): Number of similar images to find.\n",
    "\n",
    "    Returns:\n",
    "        str: Path of the similar image.\n",
    "    \"\"\"\n",
    "    _, indices = kdtree.query(query_vector, num_results)\n",
    "\n",
    "    if num_results == 1:\n",
    "        idx = int(indices[0])  # Access the first index\n",
    "        image_path = image_paths[idx]\n",
    "        return image_path\n",
    "    else:\n",
    "        for i in range(num_results):\n",
    "            idx = int(indices[i])\n",
    "            image_path = image_paths[idx]\n",
    "            return image_path"
   ]
  },
  {
   "cell_type": "code",
   "execution_count": null,
   "metadata": {
    "execution": {
     "iopub.execute_input": "2024-11-24T05:14:18.703907Z",
     "iopub.status.busy": "2024-11-24T05:14:18.703513Z",
     "iopub.status.idle": "2024-11-24T05:14:18.712425Z",
     "shell.execute_reply": "2024-11-24T05:14:18.71113Z",
     "shell.execute_reply.started": "2024-11-24T05:14:18.703876Z"
    },
    "trusted": true
   },
   "outputs": [],
   "source": [
    "vlad.database.shape"
   ]
  },
  {
   "cell_type": "code",
   "execution_count": null,
   "metadata": {
    "execution": {
     "iopub.execute_input": "2024-11-24T05:15:24.239654Z",
     "iopub.status.busy": "2024-11-24T05:15:24.239226Z",
     "iopub.status.idle": "2024-11-24T05:15:27.607922Z",
     "shell.execute_reply": "2024-11-24T05:15:27.606886Z",
     "shell.execute_reply.started": "2024-11-24T05:15:24.239612Z"
    },
    "trusted": true
   },
   "outputs": [],
   "source": [
    "search_similar_images(vlad.database[0], kdtree, vlad.database, 3)"
   ]
  }
 ],
 "metadata": {
  "kaggle": {
   "accelerator": "none",
   "dataSources": [
    {
     "datasetId": 3159924,
     "sourceId": 5471019,
     "sourceType": "datasetVersion"
    }
   ],
   "dockerImageVersionId": 30786,
   "isGpuEnabled": false,
   "isInternetEnabled": true,
   "language": "python",
   "sourceType": "notebook"
  },
  "kernelspec": {
   "display_name": "ml",
   "language": "python",
   "name": "python3"
  },
  "language_info": {
   "codemirror_mode": {
    "name": "ipython",
    "version": 3
   },
   "file_extension": ".py",
   "mimetype": "text/x-python",
   "name": "python",
   "nbconvert_exporter": "python",
   "pygments_lexer": "ipython3",
   "version": "3.11.5"
  }
 },
 "nbformat": 4,
 "nbformat_minor": 4
}
